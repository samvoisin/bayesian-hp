{
 "cells": [
  {
   "cell_type": "markdown",
   "id": "developing-estimate",
   "metadata": {},
   "source": [
    "March 15, 2021"
   ]
  },
  {
   "cell_type": "markdown",
   "id": "configured-issue",
   "metadata": {},
   "source": [
    "Covariates: `YrSold`, `YearBuilt`"
   ]
  },
  {
   "cell_type": "markdown",
   "id": "extraordinary-office",
   "metadata": {},
   "source": [
    "### Model:\n",
    "\n",
    "#### Priors:\n",
    "$$\n",
    "\\Sigma \\sim \\text{LKJ}(\\eta=1) \\\\\n",
    "\\tau_{\\beta_1}, \\dots, \\tau_{\\beta_p} \\sim \\exp(\\lambda=1) \\\\\n",
    "{\\bf \\beta} \\sim \\mathcal{N}_p({\\bf 0}, \\Sigma)\n",
    "$$\n",
    "\n",
    "$$\n",
    "\\mu_\\alpha \\sim \\mathcal{N}(12, 1) \\\\\n",
    "\\tau_\\alpha \\sim \\text{Half Student's t}(\\omega=0.5, \\nu=1) \\\\\n",
    "\\alpha \\sim \\mathcal{N}(\\mu_\\alpha, \\tau_\\alpha)\n",
    "$$\n",
    "\n",
    "$$\n",
    "\\tau_\\alpha \\sim \\text{Half Student's t}(\\omega=0.5, \\nu=1)\n",
    "$$\n",
    "\n",
    "#### Likelihood:\n",
    "$$\n",
    "\\mathbb{E}[y|{\\bf x}] = \\alpha + {\\bf x} \\beta \\\\\n",
    "y \\sim \\mathcal{N}(\\mathbb{E}[y|{\\bf x}], \\sigma)\n",
    "$$"
   ]
  },
  {
   "cell_type": "markdown",
   "id": "ceramic-student",
   "metadata": {},
   "source": [
    "In sample RMSE: $0.32506$"
   ]
  },
  {
   "cell_type": "code",
   "execution_count": null,
   "id": "signed-transmission",
   "metadata": {},
   "outputs": [],
   "source": []
  }
 ],
 "metadata": {
  "kernelspec": {
   "display_name": "Python 3",
   "language": "python",
   "name": "python3"
  },
  "language_info": {
   "codemirror_mode": {
    "name": "ipython",
    "version": 3
   },
   "file_extension": ".py",
   "mimetype": "text/x-python",
   "name": "python",
   "nbconvert_exporter": "python",
   "pygments_lexer": "ipython3",
   "version": "3.8.8"
  }
 },
 "nbformat": 4,
 "nbformat_minor": 5
}
