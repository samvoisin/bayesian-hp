{
 "cells": [
  {
   "cell_type": "code",
   "execution_count": null,
   "id": "theoretical-dinner",
   "metadata": {},
   "outputs": [],
   "source": [
    "import os\n",
    "import sys\n",
    "import json\n",
    "import pickle as pkl\n",
    "import numpy as np\n",
    "import pandas as pd\n",
    "import arviz as az\n",
    "import pymc3 as pm\n",
    "import theano\n",
    "import theano.tensor as T\n",
    "from sklearn.model_selection import train_test_split"
   ]
  },
  {
   "cell_type": "code",
   "execution_count": null,
   "id": "acute-advancement",
   "metadata": {},
   "outputs": [],
   "source": [
    "sys.path.append(\"../\")\n",
    "from mcmc_utils import *"
   ]
  },
  {
   "cell_type": "code",
   "execution_count": null,
   "id": "matched-helena",
   "metadata": {},
   "outputs": [],
   "source": [
    "# read data\n",
    "fp = os.path.abspath('../dataset/model_set.csv')\n",
    "raw_df = pd.read_csv(fp)\n",
    "\n",
    "# feature engineering\n",
    "raw_df[\"LogSalePrice\"] = np.log(raw_df.SalePrice)\n",
    "raw_df.CentralAir = [1 if i == \"Y\" else 0 for i in raw_df.CentralAir]\n",
    "raw_df[\"StoneVnr\"] = [1 if i == \"Stone\" else 0 for i in raw_df.MasVnrType]\n",
    "kitch_qual_conv = {\"Ex\": 3, \"Gd\": 2, \"TA\": 1, \"Fa\": 0}\n",
    "raw_df.KitchenQual = [kitch_qual_conv[i] for i in raw_df.KitchenQual]\n",
    "raw_df.YrSold = raw_df.YrSold - raw_df.YrSold.min()  # years from 2006\n",
    "raw_df.YearBuilt = raw_df.YearBuilt - raw_df.YearBuilt.min()  # years from 1872\n",
    "raw_df.YearRemodAdd = raw_df.YearRemodAdd - raw_df.YearRemodAdd.min()  # years from 1950\n",
    "Neighborhoods = raw_df.Neighborhood.unique()\n",
    "NbdLookup = dict(zip(Neighborhoods, range(Neighborhoods.size)))\n",
    "raw_df[\"NeighborhoodCode\"] = raw_df.Neighborhood.replace(NbdLookup)\n",
    "\n",
    "# drop unecessary cols\n",
    "d_cols = [\"Utilities\"]\n",
    "raw_df.drop(columns=d_cols, inplace=True)\n",
    "\n",
    "### data preparation and formatting ###\n",
    "\n",
    "# design matix\n",
    "covariates = (\"1stFlrSF\", \"LotArea\", \"StoneVnr\", \"KitchenQual\")\n",
    "y = raw_df.LogSalePrice\n",
    "X = raw_df.loc[:, covariates]\n",
    "X_nbd = raw_df.loc[:, \"NeighborhoodCode\"]\n",
    "n_nbd = Neighborhoods.size\n",
    "n, p = X.shape\n",
    "\n",
    "# train-test split\n",
    "train_idx, test_idx = train_test_split(range(n),\n",
    "                                       test_size=0.2,\n",
    "                                       random_state=1)\n",
    "X_train = X.iloc[train_idx, :].reset_index(drop=True)\n",
    "X_nbd_train = X_nbd.iloc[train_idx].reset_index(drop=True)\n",
    "X_test = X.iloc[test_idx, :].reset_index(drop=True)\n",
    "X_nbd_test = X_nbd.iloc[test_idx].reset_index(drop=True)\n",
    "y_train = y.iloc[train_idx].reset_index(drop=True)\n",
    "y_test = y.iloc[test_idx].reset_index(drop=True)\n",
    "\n",
    "### modeling ###\n",
    "hp_model = pm.Model()\n",
    "#prev_trace = pm.load_trace('.pymc_1.trace', model=hp_model)\n",
    "\n",
    "Ip_mat = np.eye(p)\n",
    "zp_vec = np.zeros(p)\n",
    "\n",
    "# specify model and perform sampling\n",
    "with hp_model:\n",
    "    X_train_data = pm.Data(\"X_train_data\", X_train)\n",
    "    nbd_idx = pm.Data(\"nbd_idx\", X_nbd_train)\n",
    "    y_train_data = pm.Data(\"y_train_data\", y_train)\n",
    "    # hyper priors\n",
    "    chol, corr, stds = pm.LKJCholeskyCov(\"Omega\", n=p, eta=1.,\n",
    "                                         sd_dist=pm.HalfStudentT.dist(sigma=0.5,\n",
    "                                                                      nu=1.),\n",
    "                                         compute_corr=True)\n",
    "    cov = pm.Deterministic(\"cov\", chol.dot(chol.T))\n",
    "    tau_alpha = pm.HalfStudentT(\"tau_alpha\", sigma=0.5, nu=1.)\n",
    "    alpha = pm.Normal(\"alpha\", mu=12., sigma=0.5)\n",
    "    # priors\n",
    "    alpha_nbd = pm.Normal(\"alpha_nbd\",\n",
    "                          mu=alpha,\n",
    "                          sigma=tau_alpha,\n",
    "                          shape=(n_nbd,))\n",
    "    beta_uc = pm.MvNormal(\"beta_uc\", mu=zp_vec, cov=Ip_mat, shape=(p,))\n",
    "    beta = pm.Deterministic(\"beta\", cov.dot(beta_uc))\n",
    "    sigma = pm.HalfStudentT(\"sigma\", sigma=0.5, nu=1.)\n",
    "    # likelihood\n",
    "    Ey_x = T.add(alpha_nbd[nbd_idx], X_train_data.dot(beta))  # E[Y|X]\n",
    "    y_obs = pm.Normal(\"y_obs\", mu=Ey_x, sigma=sigma, observed=y_train_data)"
   ]
  },
  {
   "cell_type": "code",
   "execution_count": null,
   "id": "substantial-negative",
   "metadata": {},
   "outputs": [],
   "source": [
    "pm.model_to_graphviz(hp_model)"
   ]
  },
  {
   "cell_type": "code",
   "execution_count": null,
   "id": "marked-marshall",
   "metadata": {},
   "outputs": [],
   "source": [
    "trace = pm.load_trace(\"../.pymc_3.trace/\", model=hp_model)\n",
    "trace = az.from_pymc3(trace, model=hp_model)\n",
    "trace_df = trace.to_dataframe()"
   ]
  },
  {
   "cell_type": "markdown",
   "id": "artificial-jacob",
   "metadata": {},
   "source": [
    "#### if loading from netCDF\n",
    "trace = az.from_netcdf(\"./inf_data.nc\")\n",
    "\n",
    "trace_df = trace.to_dataframe()"
   ]
  },
  {
   "cell_type": "code",
   "execution_count": null,
   "id": "unlimited-avatar",
   "metadata": {
    "scrolled": false
   },
   "outputs": [],
   "source": [
    "for i, c in enumerate(covariates):\n",
    "    print(c)\n",
    "    bi_rhat = calc_Rhat(trace.posterior.beta[0,:,i].values,\n",
    "                        trace.posterior.beta[1,:,i].values,\n",
    "                        trace.posterior.beta[2,:,i].values)\n",
    "    print(f\"rhat for {c} coef: {bi_rhat}\")\n",
    "    plot_trace(trace.posterior.beta[0,:,i],\n",
    "               trace.posterior.beta[1,:,i],\n",
    "               trace.posterior.beta[2,:,i])\n",
    "    plot_posterior_dists(trace.posterior.beta[0,:,i],\n",
    "                         trace.posterior.beta[1,:,i],\n",
    "                         trace.posterior.beta[2,:,i])\n",
    "    print(\"--------\")"
   ]
  },
  {
   "cell_type": "code",
   "execution_count": null,
   "id": "cross-grocery",
   "metadata": {
    "scrolled": false
   },
   "outputs": [],
   "source": [
    "for i, c in enumerate(covariates):\n",
    "    print(c)\n",
    "    bi_rhat = calc_Rhat(trace.posterior.Omega_stds[0,:,i].values,\n",
    "                        trace.posterior.Omega_stds[1,:,i].values,\n",
    "                        trace.posterior.Omega_stds[2,:,i].values)\n",
    "    print(f\"rhat for {c} coef std: {bi_rhat}\")\n",
    "    plot_trace(trace.posterior.Omega_stds[0,:,i].values,\n",
    "               trace.posterior.Omega_stds[1,:,i].values,\n",
    "               trace.posterior.Omega_stds[2,:,i].values)\n",
    "    plot_posterior_dists(trace.posterior.Omega_stds[0,:,i].values,\n",
    "                         trace.posterior.Omega_stds[1,:,i].values,\n",
    "                         trace.posterior.Omega_stds[2,:,i].values)\n",
    "    print(\"--------\")"
   ]
  },
  {
   "cell_type": "code",
   "execution_count": null,
   "id": "indian-subcommittee",
   "metadata": {},
   "outputs": [],
   "source": [
    "alpha_rhat = calc_Rhat(trace.posterior.alpha[0,:].values,\n",
    "                       trace.posterior.alpha[1,:].values,\n",
    "                       trace.posterior.alpha[2,:].values)\n",
    "print(f\"Rhat for population alpha {alpha_rhat}\")\n",
    "plot_trace(trace.posterior.alpha[0,:].values,\n",
    "           trace.posterior.alpha[1,:].values,\n",
    "           trace.posterior.alpha[2,:].values)\n",
    "plot_posterior_dists(trace.posterior.alpha[0,:].values,\n",
    "                     trace.posterior.alpha[1,:].values,\n",
    "                     trace.posterior.alpha[2,:].values)"
   ]
  },
  {
   "cell_type": "code",
   "execution_count": null,
   "id": "novel-soundtrack",
   "metadata": {
    "scrolled": false
   },
   "outputs": [],
   "source": [
    "for i in range(n_nbd):\n",
    "    print(Neighborhoods[i])\n",
    "    print(calc_Rhat(trace.posterior.alpha_nbd[0,:,i].values,\n",
    "                    trace.posterior.alpha_nbd[1,:,i].values,\n",
    "                    trace.posterior.alpha_nbd[2,:,i].values))\n",
    "    plot_trace(trace.posterior.alpha_nbd[0,:,i].values,\n",
    "               trace.posterior.alpha_nbd[1,:,i].values,\n",
    "               trace.posterior.alpha_nbd[2,:,i].values)\n",
    "    plot_posterior_dists(trace.posterior.alpha_nbd[0,:,i].values,\n",
    "                         trace.posterior.alpha_nbd[1,:,i].values,\n",
    "                         trace.posterior.alpha_nbd[2,:,i].values)\n",
    "    print(\"-------\")"
   ]
  },
  {
   "cell_type": "code",
   "execution_count": null,
   "id": "strategic-buddy",
   "metadata": {
    "scrolled": true
   },
   "outputs": [],
   "source": [
    "for c in trace_df.columns:\n",
    "    print(c)"
   ]
  },
  {
   "cell_type": "code",
   "execution_count": null,
   "id": "underlying-screw",
   "metadata": {
    "scrolled": false
   },
   "outputs": [],
   "source": [
    "for nbd in range(n_nbd):\n",
    "    plt.scatter(trace_df[~trace_df[('sample_stats', 'diverging')]][('posterior', 'alpha')],\n",
    "                trace_df[~trace_df[('sample_stats', 'diverging')]][('posterior', f'alpha_nbd[{nbd}]', nbd)],\n",
    "                color=\"black\", alpha=0.2)\n",
    "    plt.scatter(trace_df[trace_df[('sample_stats', 'diverging')]][('posterior', 'alpha')],\n",
    "                trace_df[trace_df[('sample_stats', 'diverging')]][('posterior', f'alpha_nbd[{nbd}]', nbd)],\n",
    "                color=\"limegreen\", alpha=0.2)\n",
    "    plt.title(f\"Neighborhood {Neighborhoods[nbd]}\")\n",
    "    plt.show()\n",
    "    print(\"--------\")"
   ]
  },
  {
   "cell_type": "code",
   "execution_count": null,
   "id": "associate-thought",
   "metadata": {},
   "outputs": [],
   "source": [
    "n1 = 0\n",
    "n2 = 3\n",
    "plt.scatter(trace_df[~trace_df[('sample_stats', 'diverging')]][('posterior', f'Omega_stds[{n1}]', n1)],\n",
    "            trace_df[~trace_df[('sample_stats', 'diverging')]][('posterior', f'Omega_stds[{n2}]', n2)],\n",
    "            color=\"black\", alpha=0.2)\n",
    "plt.scatter(trace_df[trace_df[('sample_stats', 'diverging')]][('posterior', f'Omega_stds[{n1}]', n1)],\n",
    "            trace_df[trace_df[('sample_stats', 'diverging')]][('posterior', f'Omega_stds[{n2}]', n2)],\n",
    "            color=\"limegreen\", alpha=0.2)\n",
    "plt.show()"
   ]
  },
  {
   "cell_type": "code",
   "execution_count": null,
   "id": "accepted-idaho",
   "metadata": {},
   "outputs": [],
   "source": [
    "n = 0\n",
    "plt.scatter(trace_df[~trace_df[('sample_stats', 'diverging')]][('posterior', f'beta[{n}]', n)],\n",
    "            trace_df[~trace_df[('sample_stats', 'diverging')]][('posterior', f'Omega_stds[{n}]', n)],\n",
    "            color=\"black\", alpha=0.2)\n",
    "plt.scatter(trace_df[trace_df[('sample_stats', 'diverging')]][('posterior', f'beta[{n}]', n)],\n",
    "            trace_df[trace_df[('sample_stats', 'diverging')]][('posterior', f'Omega_stds[{n}]', n)],\n",
    "            color=\"limegreen\", alpha=0.2)\n",
    "plt.xlabel(f\"beta {n}\")\n",
    "plt.ylabel(f\"beta_std {n}\")\n",
    "plt.show()"
   ]
  },
  {
   "cell_type": "code",
   "execution_count": null,
   "id": "compound-exposure",
   "metadata": {},
   "outputs": [],
   "source": [
    "plt.scatter(trace_df[~trace_df[('sample_stats', 'diverging')]][('posterior', 'alpha')],\n",
    "            trace_df[~trace_df[('sample_stats', 'diverging')]][('posterior', 'tau_alpha')],\n",
    "            color=\"black\", alpha=0.2)\n",
    "plt.scatter(trace_df[trace_df[('sample_stats', 'diverging')]][('posterior', 'alpha')],\n",
    "            trace_df[trace_df[('sample_stats', 'diverging')]][('posterior', 'tau_alpha')],\n",
    "            color=\"limegreen\", alpha=0.2)\n",
    "plt.xlabel(\"alpha\")\n",
    "plt.ylabel(\"tau_alpha\")\n",
    "plt.show()"
   ]
  },
  {
   "cell_type": "code",
   "execution_count": null,
   "id": "sixth-colony",
   "metadata": {},
   "outputs": [],
   "source": [
    "az.plot_parallel(trace, var_names=[\"alpha_nbd\"])\n",
    "plt.show()"
   ]
  }
 ],
 "metadata": {
  "kernelspec": {
   "display_name": "Python 3",
   "language": "python",
   "name": "python3"
  },
  "language_info": {
   "codemirror_mode": {
    "name": "ipython",
    "version": 3
   },
   "file_extension": ".py",
   "mimetype": "text/x-python",
   "name": "python",
   "nbconvert_exporter": "python",
   "pygments_lexer": "ipython3",
   "version": "3.8.8"
  }
 },
 "nbformat": 4,
 "nbformat_minor": 5
}
